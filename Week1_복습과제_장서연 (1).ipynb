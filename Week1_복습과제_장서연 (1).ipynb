{
  "nbformat": 4,
  "nbformat_minor": 0,
  "metadata": {
    "colab": {
      "provenance": []
    },
    "kernelspec": {
      "name": "python3",
      "display_name": "Python 3"
    },
    "language_info": {
      "name": "python"
    }
  },
  "cells": [
    {
      "cell_type": "markdown",
      "source": [
        "# **Week1 복습과제**\n",
        "\n",
        "1. [Pytorch 기본]\n",
        "1. [Linear Regression]\n",
        "1. [Logistic Regression]"
      ],
      "metadata": {
        "id": "9mabISNcCPiV"
      }
    },
    {
      "cell_type": "code",
      "execution_count": 2,
      "metadata": {
        "id": "T-Govjsw7kBQ"
      },
      "outputs": [],
      "source": [
        "# import libraries\n",
        "import numpy as np\n",
        "import pandas as pd\n",
        "import matplotlib.pyplot as plt\n",
        "\n",
        "#input data: 첨부된 .csv 파일 다운받아 사용해주세요"
      ]
    },
    {
      "cell_type": "code",
      "source": [
        "from google.colab import drive\n",
        "drive.mount('/content/drive')"
      ],
      "metadata": {
        "colab": {
          "base_uri": "https://localhost:8080/"
        },
        "id": "Vm6eEhU6Snd7",
        "outputId": "e7a944ce-ae2e-4f34-a5c4-f7264466277b"
      },
      "execution_count": 3,
      "outputs": [
        {
          "output_type": "stream",
          "name": "stdout",
          "text": [
            "Mounted at /content/drive\n"
          ]
        }
      ]
    },
    {
      "cell_type": "markdown",
      "source": [
        "<a id=\"1\"></a> <br>\n",
        "## 1. Pytorch 기본"
      ],
      "metadata": {
        "id": "0qcO6qTxCUTU"
      }
    },
    {
      "cell_type": "code",
      "source": [
        "# numpy array\n",
        "array = [[1,2,3],[4,5,6]]\n",
        "first_array = np.array(array) # 2x3 array\n",
        "print(\"Array Type: {}\".format(first_array.dtype)) # type\n",
        "print(\"Array Shape: {}\".format(first_array.shape)) # shape\n",
        "print(first_array)"
      ],
      "metadata": {
        "colab": {
          "base_uri": "https://localhost:8080/"
        },
        "id": "_KdP4S5g7udz",
        "outputId": "0a5eec53-55bb-4290-a272-8d11e17bac20"
      },
      "execution_count": 5,
      "outputs": [
        {
          "output_type": "stream",
          "name": "stdout",
          "text": [
            "Array Type: int64\n",
            "Array Shape: (2, 3)\n",
            "[[1 2 3]\n",
            " [4 5 6]]\n"
          ]
        }
      ]
    },
    {
      "cell_type": "markdown",
      "source": [
        "- 우리는 NumPy 배열을 살펴보았습니다.\n",
        "- 이제 텐서(PyTorch 배열)를 구현하는 방법을 살펴보겠습니다.\n",
        "- import torch를 사용하여 PyTorch 라이브러리를 가져옵니다.\n",
        "- torch.Tensor() 메서드를 사용하여 텐서를 생성합니다.\n",
        "- type: 배열의 타입을 나타냅니다. 이 예제에서는 텐서입니다.\n",
        "- shape: 배열의 형태를 나타냅니다. (행 × 열)"
      ],
      "metadata": {
        "id": "HfLiM-u1Cj5l"
      }
    },
    {
      "cell_type": "code",
      "source": [
        "# import pytorch library\n",
        "import torch\n",
        "\n",
        "# pytorch array\n",
        "tensor = torch.Tensor(array)\n",
        "print(\"Array Type: {}\".format(tensor.type)) # type\n",
        "print(\"Array Shape: {}\".format(tensor.shape)) # shape\n",
        "print(tensor)"
      ],
      "metadata": {
        "colab": {
          "base_uri": "https://localhost:8080/"
        },
        "id": "d-uAA50o7ua4",
        "outputId": "88f43288-20f5-448b-f9bd-4e514e2d8481"
      },
      "execution_count": 6,
      "outputs": [
        {
          "output_type": "stream",
          "name": "stdout",
          "text": [
            "Array Type: <built-in method type of Tensor object at 0x7ae1170f2440>\n",
            "Array Shape: torch.Size([2, 3])\n",
            "tensor([[1., 2., 3.],\n",
            "        [4., 5., 6.]])\n"
          ]
        }
      ]
    },
    {
      "cell_type": "markdown",
      "source": [
        "- 할당(Allocation)은 코딩에서 가장 많이 사용되는 기법 중 하나입니다.\n",
        "- 따라서 PyTorch를 사용하여 이를 구현하는 방법을 배워봅시다.\n",
        "- 학습을 위해 NumPy와 Tensor를 비교해 봅시다.\n",
        "  - np.ones() = torch.ones()\n",
        "  - np.random.rand() = torch.rand()"
      ],
      "metadata": {
        "id": "pEvocwKPC6J1"
      }
    },
    {
      "cell_type": "code",
      "source": [
        "# numpy ones\n",
        "print(\"Numpy {}\\n\".format(np.ones((2,3)))) # 2x3 in numpy\n",
        "\n",
        "# pytorch ones\n",
        "print(torch.ones(2,3)) # 2x3 in tensor"
      ],
      "metadata": {
        "colab": {
          "base_uri": "https://localhost:8080/"
        },
        "id": "QlHQXzBR7uYo",
        "outputId": "2fbac640-ba30-4633-c8de-fe341ee6b430"
      },
      "execution_count": 7,
      "outputs": [
        {
          "output_type": "stream",
          "name": "stdout",
          "text": [
            "Numpy [[1. 1. 1.]\n",
            " [1. 1. 1.]]\n",
            "\n",
            "tensor([[1., 1., 1.],\n",
            "        [1., 1., 1.]])\n"
          ]
        }
      ]
    },
    {
      "cell_type": "code",
      "source": [
        "# numpy random\n",
        "print(\"Numpy {}\\n\".format(np.random.rand(2,3))) # 2x3 random numpy array\n",
        "\n",
        "# pytorch random\n",
        "print(torch.rand(2,3)) # 2x3 random tensor"
      ],
      "metadata": {
        "colab": {
          "base_uri": "https://localhost:8080/"
        },
        "id": "xEV88BpO7uWc",
        "outputId": "aeba35c6-3329-4390-83eb-62146e25eeed"
      },
      "execution_count": 8,
      "outputs": [
        {
          "output_type": "stream",
          "name": "stdout",
          "text": [
            "Numpy [[0.72380736 0.1983581  0.07801289]\n",
            " [0.22268807 0.65416123 0.61673972]]\n",
            "\n",
            "tensor([[0.7022, 0.0786, 0.5160],\n",
            "        [0.1482, 0.5208, 0.8358]])\n"
          ]
        }
      ]
    },
    {
      "cell_type": "markdown",
      "source": [
        "- 텐서와 NumPy 배열 간의 변환을 살펴봅시다.\n",
        "  - torch.from_numpy(): NumPy → Tensor\n",
        "  - .numpy(): Tensor → NumPy"
      ],
      "metadata": {
        "id": "2TAOGUteDLOv"
      }
    },
    {
      "cell_type": "code",
      "source": [
        "# random numpy array\n",
        "array = np.random.rand(2,2)\n",
        "print(\"{} {}\\n\".format(array.shape, array))\n",
        "\n",
        "# numpy -> tensor\n",
        "from_numpy_to_tensor = torch.from_numpy(array)\n",
        "print(\"{}\\n\".format(from_numpy_to_tensor))\n",
        "\n",
        "# tensor -> numpy\n",
        "tensor = from_numpy_to_tensor\n",
        "from_tensor_to_numpy = tensor.numpy()\n",
        "print(\"{} {}\\n\".format(type(from_tensor_to_numpy),from_tensor_to_numpy))"
      ],
      "metadata": {
        "colab": {
          "base_uri": "https://localhost:8080/"
        },
        "id": "yWShZwKC7uUM",
        "outputId": "ff949222-5bee-4b18-a04d-580ab8ab1dbd"
      },
      "execution_count": 12,
      "outputs": [
        {
          "output_type": "stream",
          "name": "stdout",
          "text": [
            "(2, 2) [[0.89514764 0.74878579]\n",
            " [0.88352924 0.9538844 ]]\n",
            "\n",
            "tensor([[0.8951, 0.7488],\n",
            "        [0.8835, 0.9539]], dtype=torch.float64)\n",
            "\n",
            "<class 'numpy.ndarray'> [[0.89514764 0.74878579]\n",
            " [0.88352924 0.9538844 ]]\n",
            "\n"
          ]
        }
      ]
    },
    {
      "cell_type": "markdown",
      "source": [
        "### PyTorch 기본 수학 연산\n",
        "- 크기 변경(Resize): view()\n",
        "- a와 b는 텐서입니다.\n",
        "- 덧셈(Addition): torch.add(a, b) = a + b\n",
        "- 뺄셈(Subtraction): a.sub(b) = a - b\n",
        "- 원소별 곱(Element-wise Multiplication): torch.mul(a, b) = a * b\n",
        "- 원소별 나눗셈(Element-wise Division): torch.div(a, b) = a / b\n",
        "- 평균(Mean): a.mean()\n",
        "- 표준 편차(Standard Deviation, std): a.std()\n"
      ],
      "metadata": {
        "id": "bsJkMU_lDZgy"
      }
    },
    {
      "cell_type": "code",
      "source": [
        "# 텐서 생성\n",
        "tensor = torch.ones(3,3)\n",
        "print(\"\\n\",tensor)\n",
        "\n",
        "# 크기 변경\n",
        "print(\"{}{}\\n\".format(tensor.view(9).shape,tensor.view(9)))\n",
        "\n",
        "# 덧셈\n",
        "print(\"Addition: {}\\n\".format(torch.add(tensor,tensor)))\n",
        "\n",
        "# 뺄셈\n",
        "print(\"Subtraction: {}\\n\".format(tensor.sub(tensor)))\n",
        "\n",
        "# 원소별 곱\n",
        "print(\"Element wise multiplication: {}\\n\".format(torch.mul(tensor,tensor)))\n",
        "\n",
        "# 원소별 나눗셈\n",
        "print(\"Element wise division: {}\\n\".format(torch.div(tensor,tensor)))\n",
        "\n",
        "# 평균\n",
        "tensor = torch.Tensor([1,2,3,4,5])\n",
        "print(\"Mean: {}\".format(tensor.mean()))\n",
        "\n",
        "# 표준편차\n",
        "print(\"std: {}\".format(tensor.std()))"
      ],
      "metadata": {
        "colab": {
          "base_uri": "https://localhost:8080/"
        },
        "id": "V6iLiAPS7uQs",
        "outputId": "6b56273d-9b48-46c1-a25a-85158df812b9"
      },
      "execution_count": 14,
      "outputs": [
        {
          "output_type": "stream",
          "name": "stdout",
          "text": [
            "\n",
            " tensor([[1., 1., 1.],\n",
            "        [1., 1., 1.],\n",
            "        [1., 1., 1.]])\n",
            "torch.Size([9])tensor([1., 1., 1., 1., 1., 1., 1., 1., 1.])\n",
            "\n",
            "Addition: tensor([[2., 2., 2.],\n",
            "        [2., 2., 2.],\n",
            "        [2., 2., 2.]])\n",
            "\n",
            "Subtraction: tensor([[0., 0., 0.],\n",
            "        [0., 0., 0.],\n",
            "        [0., 0., 0.]])\n",
            "\n",
            "Element wise multiplication: tensor([[1., 1., 1.],\n",
            "        [1., 1., 1.],\n",
            "        [1., 1., 1.]])\n",
            "\n",
            "Element wise division: tensor([[1., 1., 1.],\n",
            "        [1., 1., 1.],\n",
            "        [1., 1., 1.]])\n",
            "\n",
            "Mean: 3.0\n",
            "std: 1.5811388492584229\n"
          ]
        }
      ]
    },
    {
      "cell_type": "markdown",
      "source": [
        "### Variables  \n",
        "- 변수는 그래디언트(Gradients)를 누적합니다.\n",
        "- 우리는 PyTorch를 신경망에 사용할 것입니다. 신경망에서는 역전파(Backpropagation) 과정에서 그래디언트를 계산하게 됩니다. 따라서 그래디언트를 다룰 필요가 있습니다.\n",
        "- 변수(Variable)와 텐서(Tensor)의 차이점은 변수가 그래디언트를 누적한다는 것입니다.  \n",
        "- 변수를 사용하여 수학 연산을 수행할 수도 있습니다.  \n",
        "- 역전파를 수행하려면 변수가 필요합니다."
      ],
      "metadata": {
        "id": "HxVIlKSQEIXx"
      }
    },
    {
      "cell_type": "code",
      "source": [
        "from torch.autograd import Variable\n",
        "\n",
        "# variable 정의\n",
        "var = torch.autograd.Variable(torch.ones(3), requires_grad = True)\n",
        "var"
      ],
      "metadata": {
        "colab": {
          "base_uri": "https://localhost:8080/"
        },
        "id": "UfpDKji97uOv",
        "outputId": "7648d853-b218-4014-ce1f-87a6c195696e"
      },
      "execution_count": 16,
      "outputs": [
        {
          "output_type": "execute_result",
          "data": {
            "text/plain": [
              "tensor([1., 1., 1.], requires_grad=True)"
            ]
          },
          "metadata": {},
          "execution_count": 16
        }
      ]
    },
    {
      "cell_type": "code",
      "source": [
        "# 기본적인 역전파(backward propagation) 수행\n",
        "# 주어진 함수 y = x^2\n",
        "array = [2,4]\n",
        "tensor = torch.Tensor(array)\n",
        "x = torch.autograd.Variable(tensor, requires_grad = True)\n",
        "y = x**2\n",
        "print(\" y =  \",y)\n",
        "\n",
        "# 방정식 요약: o = 1/2*sum(y)\n",
        "o = (1/2)*sum(y)\n",
        "print(\" o =  \",o)\n",
        "\n",
        "# 역전파 실행(그래디언트 계산)\n",
        "o.backward()\n",
        "\n",
        "# 변수는 그래디언트를 누적. 여기서는 x 하나만 존재.\n",
        "# 따라선 변수 x는 그래디언트를 가져야 함\n",
        "# x의 그래디언트 출\n",
        "print(\"gradients: \",x.grad)"
      ],
      "metadata": {
        "colab": {
          "base_uri": "https://localhost:8080/"
        },
        "id": "t4p2w1z_7uMv",
        "outputId": "4f68a274-86ff-4552-f06f-0362bebe9f44"
      },
      "execution_count": 19,
      "outputs": [
        {
          "output_type": "stream",
          "name": "stdout",
          "text": [
            " y =   tensor([ 4., 16.], grad_fn=<PowBackward0>)\n",
            " o =   tensor(10., grad_fn=<MulBackward0>)\n",
            "gradients:  tensor([2., 4.])\n"
          ]
        }
      ]
    },
    {
      "cell_type": "markdown",
      "source": [
        "<a id=\"2\"></a> <br>\n",
        "## 2. 선형 회귀\n",
        "\n",
        "- y = Ax + B\n",
        "    - A = 기울기\n",
        "    - B = 절편 (y축과 교차하는 점)\n",
        "\n",
        "- 자동차 가격이 낮으면 더 많이 팔리고, 자동차 가격이 높으면 덜 팔린다는 사실을 우리는 알고 있으며, 이에 대한 데이터셋을 가지고 있습니다.\n",
        "\n",
        "- 목표는 자동차 가격이 100일 때 팔린 자동차의 수를 예측하는 것입니다."
      ],
      "metadata": {
        "id": "Jq1tID2f9DOP"
      }
    },
    {
      "cell_type": "code",
      "source": [
        "# 자동차 회사에서 과거 판매 데이터를 수집했다고 가정\n",
        "# 자동차 가격 데이터 정의\n",
        "car_prices_array = [3,4,5,6,7,8,9]\n",
        "car_price_np = np.array(car_prices_array,dtype=np.float32) # numpy array로 변환\n",
        "car_price_np = car_price_np.reshape(-1,1) #reshape\n",
        "car_price_tensor = torch.autograd.Variable(torch.from_numpy(car_price_np)) # define variable\n",
        "\n",
        "# 자동차 판매량 데이터 정의\n",
        "number_of_car_sell_array = [ 7.5, 7, 6.5, 6.0, 5.5, 5.0, 4.5]\n",
        "number_of_car_sell_np = np.array(number_of_car_sell_array,dtype=np.float32) # numpy array 로 변환\n",
        "number_of_car_sell_np = number_of_car_sell_np.reshape(-1,1) #reshape\n",
        "number_of_car_sell_tensor = torch.autograd.Variable(torch.from_numpy(number_of_car_sell_np)) # define variable\n",
        "\n",
        "# 데이터 시각화\n",
        "import matplotlib.pyplot as plt\n",
        "plt.scatter(car_prices_array,number_of_car_sell_array)\n",
        "plt.xlabel(\"Car Price $\")\n",
        "plt.ylabel(\"Number of Car Sell\")\n",
        "plt.title(\"Car Price$ VS Number of Car Sell\")\n",
        "plt.show()"
      ],
      "metadata": {
        "colab": {
          "base_uri": "https://localhost:8080/",
          "height": 472
        },
        "id": "5r4kXCwf7uKP",
        "outputId": "8fb61cf7-bead-48e6-b065-721a99521715"
      },
      "execution_count": 20,
      "outputs": [
        {
          "output_type": "display_data",
          "data": {
            "text/plain": [
              "<Figure size 640x480 with 1 Axes>"
            ],
            "image/png": "[encoded data removed]"
          },
          "metadata": {}
        }
      ]
    },
    {
      "cell_type": "markdown",
      "source": [
        "- 이제 이 그래프는 우리가 수집한 데이터입니다.\n",
        "- 우리는 자동차 가격이 100달러일 때 판매된 자동차의 수가 무엇일지를 묻는 질문을 가지고 있습니다.\n",
        "- 이 질문을 해결하기 위해 우리는 선형 회귀를 사용해야 합니다.\n",
        "- 우리는 이 데이터에 맞는 선을 찾아야 합니다. 목표는 최소한의 오류로 선을 맞추는 것입니다.\n",
        "\n",
        "---\n",
        "\n",
        "- **선형 회귀의 단계**\n",
        "    1. LinearRegression 클래스를 생성합니다.\n",
        "    2. 이 LinearRegression 클래스로 모델을 정의합니다.\n",
        "    3. MSE: 평균 제곱 오차(Mean Squared Error)\n",
        "    4. 최적화 (SGD: 확률적 경사 하강법)\n",
        "    5. 역전파 (Backpropagation)\n",
        "    6. 예측 (Prediction)"
      ],
      "metadata": {
        "id": "MOlzmdG89JCT"
      }
    },
    {
      "cell_type": "code",
      "source": [
        "# PyTorch를 이용한 선형 회귀 모델 구현\n",
        "\n",
        "import torch\n",
        "from torch.autograd import Variable\n",
        "import torch.nn as nn\n",
        "import warnings\n",
        "warnings.filterwarnings(\"ignore\")\n",
        "\n",
        "# 선형 회귀 클래스 정의\n",
        "class LinearRegression(nn.Module):\n",
        "    def __init__(self, input_size, output_size):\n",
        "        super(LinearRegression, self).__init__()\n",
        "        self.linear = nn.Linear(input_dim,output_dim) # apply linear function\n",
        "\n",
        "    def forward(self, x):\n",
        "        return self.linear(x)\n",
        "\n",
        "# 모델 정의\n",
        "input_dim = 1\n",
        "output_dim = 1\n",
        "model = LinearRegression(input_dim,output_dim)\n",
        "\n",
        "# 손실 함수 (MSE)\n",
        "mse = nn.MSELoss()\n",
        "\n",
        "# 옵티마이저 (SGD 사용)\n",
        "learning_rate = 0.02\n",
        "optimizer = torch.optim.SGD(model.parameters(), lr=learning_rate)\n",
        "\n",
        "# 모델 학습\n",
        "loss_list = []\n",
        "iteration_number = 1001\n",
        "for iteration in range(iteration_number):\n",
        "    optimizer.zero_grad()  # 기울기 초기화\n",
        "    results = model(car_price_tensor)  # 예측값 계산\n",
        "    loss = mse(results, number_of_car_sell_tensor) # 손실 계산\n",
        "    # 역전파 실행\n",
        "    loss.backward()\n",
        "    # 가중치 업데이트\n",
        "    optimizer.step()\n",
        "    # loss 저장\n",
        "    loss_list.append(loss.item())\n",
        "    # loss 출력\n",
        "    if iteration % 50 == 0:\n",
        "        print(f'epoch {iteration}, loss {loss.data}')\n",
        "\n",
        "# 손실 그래프 시각화\n",
        "plt.plot(range(iteration_number), loss_list)\n",
        "plt.xlabel(\"Number of Iterations\")\n",
        "plt.ylabel(\"Loss\")\n",
        "plt.show()"
      ],
      "metadata": {
        "colab": {
          "base_uri": "https://localhost:8080/",
          "height": 841
        },
        "id": "6MvDUc9b7uHf",
        "outputId": "75e8d208-efff-4062-d882-64c8e3eb1122"
      },
      "execution_count": 21,
      "outputs": [
        {
          "output_type": "stream",
          "name": "stdout",
          "text": [
            "epoch 0, loss 10.270856857299805\n",
            "epoch 50, loss 5.012592315673828\n",
            "epoch 100, loss 3.3872182369232178\n",
            "epoch 150, loss 2.2888846397399902\n",
            "epoch 200, loss 1.546694040298462\n",
            "epoch 250, loss 1.0451658964157104\n",
            "epoch 300, loss 0.7062628865242004\n",
            "epoch 350, loss 0.47725096344947815\n",
            "epoch 400, loss 0.32249799370765686\n",
            "epoch 450, loss 0.21792539954185486\n",
            "epoch 500, loss 0.14726123213768005\n",
            "epoch 550, loss 0.09951068460941315\n",
            "epoch 600, loss 0.06724338978528976\n",
            "epoch 650, loss 0.04543900862336159\n",
            "epoch 700, loss 0.03070472739636898\n",
            "epoch 750, loss 0.020748497918248177\n",
            "epoch 800, loss 0.01402057521045208\n",
            "epoch 850, loss 0.009474417194724083\n",
            "epoch 900, loss 0.006402160506695509\n",
            "epoch 950, loss 0.004326170310378075\n",
            "epoch 1000, loss 0.0029233680106699467\n"
          ]
        },
        {
          "output_type": "display_data",
          "data": {
            "text/plain": [
              "<Figure size 640x480 with 1 Axes>"
            ],
            "image/png": "[encoded data removed]"
          },
          "metadata": {}
        }
      ]
    },
    {
      "cell_type": "markdown",
      "source": [
        "- 반복 횟수는 1000입니다.\n",
        "- 손실 값은 거의 0에 가까우며, 이는 그래프나 1000번째 epoch에서의 손실 값에서 확인할 수 있습니다.\n",
        "- 이제 우리는 훈련된 모델을 가지고 있습니다.\n",
        "- 훈련된 모델을 사용할 때, 자동차 가격을 예측해 봅시다."
      ],
      "metadata": {
        "id": "9odY_Wb59N8H"
      }
    },
    {
      "cell_type": "code",
      "source": [
        "# car price 예측\n",
        "predicted =results.data.numpy()\n",
        "plt.scatter(car_prices_array,number_of_car_sell_tensor,label = \"original data\",color =\"red\") # original data\n",
        "plt.scatter(car_prices_array, predicted,label = \"predicted data\",color =\"blue\") # predicted data\n",
        "\n",
        "# car price가 10$ 일 때, car sell은?\n",
        "predicted_10 = model(torch.tensor([[10.0]])).data.numpy()\n",
        "plt.scatter(10,predicted_10.data,label = \"car price 10$\",color =\"green\")\n",
        "plt.legend()\n",
        "plt.xlabel(\"Car Price $\")\n",
        "plt.ylabel(\"Number of Car Sell\")\n",
        "plt.title(\"Original vs Predicted values\")\n",
        "plt.show()"
      ],
      "metadata": {
        "colab": {
          "base_uri": "https://localhost:8080/",
          "height": 792
        },
        "id": "FtsHa2uk7uDy",
        "outputId": "4d052749-a75b-4134-8cba-297d5194475f"
      },
      "execution_count": 22,
      "outputs": [
        {
          "output_type": "error",
          "ename": "NotImplementedError",
          "evalue": "multi-dimensional sub-views are not implemented",
          "traceback": [
            "\u001b[0;31m---------------------------------------------------------------------------\u001b[0m",
            "\u001b[0;31mNotImplementedError\u001b[0m                       Traceback (most recent call last)",
            "\u001b[0;32m/tmp/ipython-input-3535780536.py\u001b[0m in \u001b[0;36m<cell line: 0>\u001b[0;34m()\u001b[0m\n\u001b[1;32m      6\u001b[0m \u001b[0;31m# car price가 10$ 일 때, car sell은?\u001b[0m\u001b[0;34m\u001b[0m\u001b[0;34m\u001b[0m\u001b[0m\n\u001b[1;32m      7\u001b[0m \u001b[0mpredicted_10\u001b[0m \u001b[0;34m=\u001b[0m \u001b[0mmodel\u001b[0m\u001b[0;34m(\u001b[0m\u001b[0mtorch\u001b[0m\u001b[0;34m.\u001b[0m\u001b[0mtensor\u001b[0m\u001b[0;34m(\u001b[0m\u001b[0;34m[\u001b[0m\u001b[0;34m[\u001b[0m\u001b[0;36m10.0\u001b[0m\u001b[0;34m]\u001b[0m\u001b[0;34m]\u001b[0m\u001b[0;34m)\u001b[0m\u001b[0;34m)\u001b[0m\u001b[0;34m.\u001b[0m\u001b[0mdata\u001b[0m\u001b[0;34m.\u001b[0m\u001b[0mnumpy\u001b[0m\u001b[0;34m(\u001b[0m\u001b[0;34m)\u001b[0m\u001b[0;34m\u001b[0m\u001b[0;34m\u001b[0m\u001b[0m\n\u001b[0;32m----> 8\u001b[0;31m \u001b[0mplt\u001b[0m\u001b[0;34m.\u001b[0m\u001b[0mscatter\u001b[0m\u001b[0;34m(\u001b[0m\u001b[0;36m10\u001b[0m\u001b[0;34m,\u001b[0m\u001b[0mpredicted_10\u001b[0m\u001b[0;34m.\u001b[0m\u001b[0mdata\u001b[0m\u001b[0;34m,\u001b[0m\u001b[0mlabel\u001b[0m \u001b[0;34m=\u001b[0m \u001b[0;34m\"car price 10$\"\u001b[0m\u001b[0;34m,\u001b[0m\u001b[0mcolor\u001b[0m \u001b[0;34m=\u001b[0m\u001b[0;34m\"green\"\u001b[0m\u001b[0;34m)\u001b[0m\u001b[0;34m\u001b[0m\u001b[0;34m\u001b[0m\u001b[0m\n\u001b[0m\u001b[1;32m      9\u001b[0m \u001b[0mplt\u001b[0m\u001b[0;34m.\u001b[0m\u001b[0mlegend\u001b[0m\u001b[0;34m(\u001b[0m\u001b[0;34m)\u001b[0m\u001b[0;34m\u001b[0m\u001b[0;34m\u001b[0m\u001b[0m\n\u001b[1;32m     10\u001b[0m \u001b[0mplt\u001b[0m\u001b[0;34m.\u001b[0m\u001b[0mxlabel\u001b[0m\u001b[0;34m(\u001b[0m\u001b[0;34m\"Car Price $\"\u001b[0m\u001b[0;34m)\u001b[0m\u001b[0;34m\u001b[0m\u001b[0;34m\u001b[0m\u001b[0m\n",
            "\u001b[0;32m/usr/local/lib/python3.12/dist-packages/matplotlib/_api/deprecation.py\u001b[0m in \u001b[0;36mwrapper\u001b[0;34m(*args, **kwargs)\u001b[0m\n\u001b[1;32m    451\u001b[0m                 \u001b[0;34m\"parameter will become keyword-only in %(removal)s.\"\u001b[0m\u001b[0;34m,\u001b[0m\u001b[0;34m\u001b[0m\u001b[0;34m\u001b[0m\u001b[0m\n\u001b[1;32m    452\u001b[0m                 name=name, obj_type=f\"parameter of {func.__name__}()\")\n\u001b[0;32m--> 453\u001b[0;31m         \u001b[0;32mreturn\u001b[0m \u001b[0mfunc\u001b[0m\u001b[0;34m(\u001b[0m\u001b[0;34m*\u001b[0m\u001b[0margs\u001b[0m\u001b[0;34m,\u001b[0m \u001b[0;34m**\u001b[0m\u001b[0mkwargs\u001b[0m\u001b[0;34m)\u001b[0m\u001b[0;34m\u001b[0m\u001b[0;34m\u001b[0m\u001b[0m\n\u001b[0m\u001b[1;32m    454\u001b[0m \u001b[0;34m\u001b[0m\u001b[0m\n\u001b[1;32m    455\u001b[0m     \u001b[0;31m# Don't modify *func*'s signature, as boilerplate.py needs it.\u001b[0m\u001b[0;34m\u001b[0m\u001b[0;34m\u001b[0m\u001b[0m\n",
            "\u001b[0;32m/usr/local/lib/python3.12/dist-packages/matplotlib/pyplot.py\u001b[0m in \u001b[0;36mscatter\u001b[0;34m(x, y, s, c, marker, cmap, norm, vmin, vmax, alpha, linewidths, edgecolors, colorizer, plotnonfinite, data, **kwargs)\u001b[0m\n\u001b[1;32m   3937\u001b[0m     \u001b[0;34m**\u001b[0m\u001b[0mkwargs\u001b[0m\u001b[0;34m,\u001b[0m\u001b[0;34m\u001b[0m\u001b[0;34m\u001b[0m\u001b[0m\n\u001b[1;32m   3938\u001b[0m ) -> PathCollection:\n\u001b[0;32m-> 3939\u001b[0;31m     __ret = gca().scatter(\n\u001b[0m\u001b[1;32m   3940\u001b[0m         \u001b[0mx\u001b[0m\u001b[0;34m,\u001b[0m\u001b[0;34m\u001b[0m\u001b[0;34m\u001b[0m\u001b[0m\n\u001b[1;32m   3941\u001b[0m         \u001b[0my\u001b[0m\u001b[0;34m,\u001b[0m\u001b[0;34m\u001b[0m\u001b[0;34m\u001b[0m\u001b[0m\n",
            "\u001b[0;32m/usr/local/lib/python3.12/dist-packages/matplotlib/_api/deprecation.py\u001b[0m in \u001b[0;36mwrapper\u001b[0;34m(*args, **kwargs)\u001b[0m\n\u001b[1;32m    451\u001b[0m                 \u001b[0;34m\"parameter will become keyword-only in %(removal)s.\"\u001b[0m\u001b[0;34m,\u001b[0m\u001b[0;34m\u001b[0m\u001b[0;34m\u001b[0m\u001b[0m\n\u001b[1;32m    452\u001b[0m                 name=name, obj_type=f\"parameter of {func.__name__}()\")\n\u001b[0;32m--> 453\u001b[0;31m         \u001b[0;32mreturn\u001b[0m \u001b[0mfunc\u001b[0m\u001b[0;34m(\u001b[0m\u001b[0;34m*\u001b[0m\u001b[0margs\u001b[0m\u001b[0;34m,\u001b[0m \u001b[0;34m**\u001b[0m\u001b[0mkwargs\u001b[0m\u001b[0;34m)\u001b[0m\u001b[0;34m\u001b[0m\u001b[0;34m\u001b[0m\u001b[0m\n\u001b[0m\u001b[1;32m    454\u001b[0m \u001b[0;34m\u001b[0m\u001b[0m\n\u001b[1;32m    455\u001b[0m     \u001b[0;31m# Don't modify *func*'s signature, as boilerplate.py needs it.\u001b[0m\u001b[0;34m\u001b[0m\u001b[0;34m\u001b[0m\u001b[0m\n",
            "\u001b[0;32m/usr/local/lib/python3.12/dist-packages/matplotlib/__init__.py\u001b[0m in \u001b[0;36minner\u001b[0;34m(ax, data, *args, **kwargs)\u001b[0m\n\u001b[1;32m   1519\u001b[0m     \u001b[0;32mdef\u001b[0m \u001b[0minner\u001b[0m\u001b[0;34m(\u001b[0m\u001b[0max\u001b[0m\u001b[0;34m,\u001b[0m \u001b[0;34m*\u001b[0m\u001b[0margs\u001b[0m\u001b[0;34m,\u001b[0m \u001b[0mdata\u001b[0m\u001b[0;34m=\u001b[0m\u001b[0;32mNone\u001b[0m\u001b[0;34m,\u001b[0m \u001b[0;34m**\u001b[0m\u001b[0mkwargs\u001b[0m\u001b[0;34m)\u001b[0m\u001b[0;34m:\u001b[0m\u001b[0;34m\u001b[0m\u001b[0;34m\u001b[0m\u001b[0m\n\u001b[1;32m   1520\u001b[0m         \u001b[0;32mif\u001b[0m \u001b[0mdata\u001b[0m \u001b[0;32mis\u001b[0m \u001b[0;32mNone\u001b[0m\u001b[0;34m:\u001b[0m\u001b[0;34m\u001b[0m\u001b[0;34m\u001b[0m\u001b[0m\n\u001b[0;32m-> 1521\u001b[0;31m             return func(\n\u001b[0m\u001b[1;32m   1522\u001b[0m                 \u001b[0max\u001b[0m\u001b[0;34m,\u001b[0m\u001b[0;34m\u001b[0m\u001b[0;34m\u001b[0m\u001b[0m\n\u001b[1;32m   1523\u001b[0m                 \u001b[0;34m*\u001b[0m\u001b[0mmap\u001b[0m\u001b[0;34m(\u001b[0m\u001b[0mcbook\u001b[0m\u001b[0;34m.\u001b[0m\u001b[0msanitize_sequence\u001b[0m\u001b[0;34m,\u001b[0m \u001b[0margs\u001b[0m\u001b[0;34m)\u001b[0m\u001b[0;34m,\u001b[0m\u001b[0;34m\u001b[0m\u001b[0;34m\u001b[0m\u001b[0m\n",
            "\u001b[0;32m/usr/local/lib/python3.12/dist-packages/matplotlib/axes/_axes.py\u001b[0m in \u001b[0;36mscatter\u001b[0;34m(self, x, y, s, c, marker, cmap, norm, vmin, vmax, alpha, linewidths, edgecolors, colorizer, plotnonfinite, **kwargs)\u001b[0m\n\u001b[1;32m   4892\u001b[0m         \u001b[0medgecolors\u001b[0m \u001b[0;34m=\u001b[0m \u001b[0mkwargs\u001b[0m\u001b[0;34m.\u001b[0m\u001b[0mpop\u001b[0m\u001b[0;34m(\u001b[0m\u001b[0;34m'edgecolor'\u001b[0m\u001b[0;34m,\u001b[0m \u001b[0;32mNone\u001b[0m\u001b[0;34m)\u001b[0m\u001b[0;34m\u001b[0m\u001b[0;34m\u001b[0m\u001b[0m\n\u001b[1;32m   4893\u001b[0m         \u001b[0;31m# Process **kwargs to handle aliases, conflicts with explicit kwargs:\u001b[0m\u001b[0;34m\u001b[0m\u001b[0;34m\u001b[0m\u001b[0m\n\u001b[0;32m-> 4894\u001b[0;31m         \u001b[0mx\u001b[0m\u001b[0;34m,\u001b[0m \u001b[0my\u001b[0m \u001b[0;34m=\u001b[0m \u001b[0mself\u001b[0m\u001b[0;34m.\u001b[0m\u001b[0m_process_unit_info\u001b[0m\u001b[0;34m(\u001b[0m\u001b[0;34m[\u001b[0m\u001b[0;34m(\u001b[0m\u001b[0;34m\"x\"\u001b[0m\u001b[0;34m,\u001b[0m \u001b[0mx\u001b[0m\u001b[0;34m)\u001b[0m\u001b[0;34m,\u001b[0m \u001b[0;34m(\u001b[0m\u001b[0;34m\"y\"\u001b[0m\u001b[0;34m,\u001b[0m \u001b[0my\u001b[0m\u001b[0;34m)\u001b[0m\u001b[0;34m]\u001b[0m\u001b[0;34m,\u001b[0m \u001b[0mkwargs\u001b[0m\u001b[0;34m)\u001b[0m\u001b[0;34m\u001b[0m\u001b[0;34m\u001b[0m\u001b[0m\n\u001b[0m\u001b[1;32m   4895\u001b[0m         \u001b[0;31m# np.ma.ravel yields an ndarray, not a masked array,\u001b[0m\u001b[0;34m\u001b[0m\u001b[0;34m\u001b[0m\u001b[0m\n\u001b[1;32m   4896\u001b[0m         \u001b[0;31m# unless its argument is a masked array.\u001b[0m\u001b[0;34m\u001b[0m\u001b[0;34m\u001b[0m\u001b[0m\n",
            "\u001b[0;32m/usr/local/lib/python3.12/dist-packages/matplotlib/axes/_base.py\u001b[0m in \u001b[0;36m_process_unit_info\u001b[0;34m(self, datasets, kwargs, convert)\u001b[0m\n\u001b[1;32m   2615\u001b[0m             \u001b[0;31m# Update from data if axis is already set but no unit is set yet.\u001b[0m\u001b[0;34m\u001b[0m\u001b[0;34m\u001b[0m\u001b[0m\n\u001b[1;32m   2616\u001b[0m             \u001b[0;32mif\u001b[0m \u001b[0maxis\u001b[0m \u001b[0;32mis\u001b[0m \u001b[0;32mnot\u001b[0m \u001b[0;32mNone\u001b[0m \u001b[0;32mand\u001b[0m \u001b[0mdata\u001b[0m \u001b[0;32mis\u001b[0m \u001b[0;32mnot\u001b[0m \u001b[0;32mNone\u001b[0m \u001b[0;32mand\u001b[0m \u001b[0;32mnot\u001b[0m \u001b[0maxis\u001b[0m\u001b[0;34m.\u001b[0m\u001b[0mhave_units\u001b[0m\u001b[0;34m(\u001b[0m\u001b[0;34m)\u001b[0m\u001b[0;34m:\u001b[0m\u001b[0;34m\u001b[0m\u001b[0;34m\u001b[0m\u001b[0m\n\u001b[0;32m-> 2617\u001b[0;31m                 \u001b[0maxis\u001b[0m\u001b[0;34m.\u001b[0m\u001b[0mupdate_units\u001b[0m\u001b[0;34m(\u001b[0m\u001b[0mdata\u001b[0m\u001b[0;34m)\u001b[0m\u001b[0;34m\u001b[0m\u001b[0;34m\u001b[0m\u001b[0m\n\u001b[0m\u001b[1;32m   2618\u001b[0m         \u001b[0;32mfor\u001b[0m \u001b[0maxis_name\u001b[0m\u001b[0;34m,\u001b[0m \u001b[0maxis\u001b[0m \u001b[0;32min\u001b[0m \u001b[0maxis_map\u001b[0m\u001b[0;34m.\u001b[0m\u001b[0mitems\u001b[0m\u001b[0;34m(\u001b[0m\u001b[0;34m)\u001b[0m\u001b[0;34m:\u001b[0m\u001b[0;34m\u001b[0m\u001b[0;34m\u001b[0m\u001b[0m\n\u001b[1;32m   2619\u001b[0m             \u001b[0;31m# Return if no axis is set.\u001b[0m\u001b[0;34m\u001b[0m\u001b[0;34m\u001b[0m\u001b[0m\n",
            "\u001b[0;32m/usr/local/lib/python3.12/dist-packages/matplotlib/axis.py\u001b[0m in \u001b[0;36mupdate_units\u001b[0;34m(self, data)\u001b[0m\n\u001b[1;32m   1754\u001b[0m         \"\"\"\n\u001b[1;32m   1755\u001b[0m         \u001b[0;32mif\u001b[0m \u001b[0;32mnot\u001b[0m \u001b[0mself\u001b[0m\u001b[0;34m.\u001b[0m\u001b[0m_converter_is_explicit\u001b[0m\u001b[0;34m:\u001b[0m\u001b[0;34m\u001b[0m\u001b[0;34m\u001b[0m\u001b[0m\n\u001b[0;32m-> 1756\u001b[0;31m             \u001b[0mconverter\u001b[0m \u001b[0;34m=\u001b[0m \u001b[0mmunits\u001b[0m\u001b[0;34m.\u001b[0m\u001b[0mregistry\u001b[0m\u001b[0;34m.\u001b[0m\u001b[0mget_converter\u001b[0m\u001b[0;34m(\u001b[0m\u001b[0mdata\u001b[0m\u001b[0;34m)\u001b[0m\u001b[0;34m\u001b[0m\u001b[0;34m\u001b[0m\u001b[0m\n\u001b[0m\u001b[1;32m   1757\u001b[0m         \u001b[0;32melse\u001b[0m\u001b[0;34m:\u001b[0m\u001b[0;34m\u001b[0m\u001b[0;34m\u001b[0m\u001b[0m\n\u001b[1;32m   1758\u001b[0m             \u001b[0mconverter\u001b[0m \u001b[0;34m=\u001b[0m \u001b[0mself\u001b[0m\u001b[0;34m.\u001b[0m\u001b[0m_converter\u001b[0m\u001b[0;34m\u001b[0m\u001b[0;34m\u001b[0m\u001b[0m\n",
            "\u001b[0;32m/usr/local/lib/python3.12/dist-packages/matplotlib/units.py\u001b[0m in \u001b[0;36mget_converter\u001b[0;34m(self, x)\u001b[0m\n\u001b[1;32m    181\u001b[0m                 \u001b[0;32mpass\u001b[0m\u001b[0;34m\u001b[0m\u001b[0;34m\u001b[0m\u001b[0m\n\u001b[1;32m    182\u001b[0m         \u001b[0;32mtry\u001b[0m\u001b[0;34m:\u001b[0m  \u001b[0;31m# If cache lookup fails, look up based on first element...\u001b[0m\u001b[0;34m\u001b[0m\u001b[0;34m\u001b[0m\u001b[0m\n\u001b[0;32m--> 183\u001b[0;31m             \u001b[0mfirst\u001b[0m \u001b[0;34m=\u001b[0m \u001b[0mcbook\u001b[0m\u001b[0;34m.\u001b[0m\u001b[0m_safe_first_finite\u001b[0m\u001b[0;34m(\u001b[0m\u001b[0mx\u001b[0m\u001b[0;34m)\u001b[0m\u001b[0;34m\u001b[0m\u001b[0;34m\u001b[0m\u001b[0m\n\u001b[0m\u001b[1;32m    184\u001b[0m         \u001b[0;32mexcept\u001b[0m \u001b[0;34m(\u001b[0m\u001b[0mTypeError\u001b[0m\u001b[0;34m,\u001b[0m \u001b[0mStopIteration\u001b[0m\u001b[0;34m)\u001b[0m\u001b[0;34m:\u001b[0m\u001b[0;34m\u001b[0m\u001b[0;34m\u001b[0m\u001b[0m\n\u001b[1;32m    185\u001b[0m             \u001b[0;32mpass\u001b[0m\u001b[0;34m\u001b[0m\u001b[0;34m\u001b[0m\u001b[0m\n",
            "\u001b[0;32m/usr/local/lib/python3.12/dist-packages/matplotlib/cbook.py\u001b[0m in \u001b[0;36m_safe_first_finite\u001b[0;34m(obj)\u001b[0m\n\u001b[1;32m   1726\u001b[0m         \u001b[0;32mraise\u001b[0m \u001b[0mRuntimeError\u001b[0m\u001b[0;34m(\u001b[0m\u001b[0;34m\"matplotlib does not support generators as input\"\u001b[0m\u001b[0;34m)\u001b[0m\u001b[0;34m\u001b[0m\u001b[0;34m\u001b[0m\u001b[0m\n\u001b[1;32m   1727\u001b[0m     \u001b[0;32melse\u001b[0m\u001b[0;34m:\u001b[0m\u001b[0;34m\u001b[0m\u001b[0;34m\u001b[0m\u001b[0m\n\u001b[0;32m-> 1728\u001b[0;31m         \u001b[0;32mfor\u001b[0m \u001b[0mval\u001b[0m \u001b[0;32min\u001b[0m \u001b[0mobj\u001b[0m\u001b[0;34m:\u001b[0m\u001b[0;34m\u001b[0m\u001b[0;34m\u001b[0m\u001b[0m\n\u001b[0m\u001b[1;32m   1729\u001b[0m             \u001b[0;32mif\u001b[0m \u001b[0msafe_isfinite\u001b[0m\u001b[0;34m(\u001b[0m\u001b[0mval\u001b[0m\u001b[0;34m)\u001b[0m\u001b[0;34m:\u001b[0m\u001b[0;34m\u001b[0m\u001b[0;34m\u001b[0m\u001b[0m\n\u001b[1;32m   1730\u001b[0m                 \u001b[0;32mreturn\u001b[0m \u001b[0mval\u001b[0m\u001b[0;34m\u001b[0m\u001b[0;34m\u001b[0m\u001b[0m\n",
            "\u001b[0;31mNotImplementedError\u001b[0m: multi-dimensional sub-views are not implemented"
          ]
        },
        {
          "output_type": "display_data",
          "data": {
            "text/plain": [
              "<Figure size 640x480 with 1 Axes>"
            ],
            "image/png": "[encoded data removed]"
          },
          "metadata": {}
        }
      ]
    },
    {
      "cell_type": "markdown",
      "source": [
        "<a id=\"3\"></a> <br>\n",
        "## 3. 로지스틱 회귀\n",
        "\n",
        "- 선형 회귀는 분류 문제에서 적합하지 않습니다.\n",
        "- 우리는 분류 문제를 해결하기 위해 로지스틱 회귀를 사용합니다.\n",
        "- 선형 회귀 + 로지스틱 함수(소프트맥스) = 로지스틱 회귀\n",
        "\n",
        "  \n",
        "- **로지스틱 회귀의 단계**\n",
        "    1. 라이브러리 가져오기\n",
        "    2. 데이터셋 준비\n",
        "        - 우리는 MNIST 데이터셋을 사용합니다.\n",
        "        - 28x28 이미지와 0부터 9까지의 10개의 레이블이 있습니다.\n",
        "        - 데이터는 정규화되지 않았기 때문에 각 이미지를 255로 나눠 기본적인 정규화를 진행합니다.\n",
        "        - 데이터를 분할하기 위해 sklearn 라이브러리의 `train_test_split` 메서드를 사용합니다.\n",
        "        - 학습 데이터 크기는 80%, 테스트 데이터 크기는 20%입니다.\n",
        "        - 특성(feature)과 목표(target) 텐서를 생성합니다. 이후 텐서에서 변수(variable)를 생성합니다. 이 변수는 기울기 누적을 위해 정의됩니다.\n",
        "        - `batch_size` = 배치 크기는 예를 들어, 1000개의 샘플이 있을 때, 이 샘플을 한 번에 모두 훈련시킬 수도 있고, 100개의 샘플씩 10개의 그룹으로 나누어 순차적으로 훈련시킬 수도 있습니다. 예를 들어, `batch_size = 100`이라면, 모든 데이터를 한 번 훈련시키는 데 336개의 그룹을 사용합니다. 각 그룹은 100개의 샘플을 가지고 있으며, 총 33600개의 샘플을 훈련합니다.\n",
        "        - `epoch`: 1 epoch는 모든 샘플을 한 번 훈련시키는 것입니다.\n",
        "        - 예를 들어, 33600개의 샘플이 있고, 배치 크기(batch_size)는 100, epoch는 29로 설정한 경우, 29번 훈련을 진행합니다. 그럼 총 몇 번의 반복(iteration)이 필요한지 계산해 봅시다:\n",
        "            - 훈련 데이터 1번 = 33600개의 샘플 훈련\n",
        "            - 하지만 데이터를 336개의 그룹으로 나누었으므로, 1 epoch는 336번의 반복이 필요합니다.\n",
        "            - 29 epoch 동안 훈련하므로, 총 반복 횟수는 9744번입니다(대략 10000번).\n",
        "        - `TensorDataset()`: 텐서를 래핑하는 데이터셋. 각 샘플은 텐서를 첫 번째 차원으로 인덱싱하여 검색됩니다.\n",
        "        - `DataLoader()`: 데이터셋과 샘플을 결합하고, 데이터셋에 대한 다중 프로세스 반복기를 제공합니다.\n",
        "        - 데이터셋의 이미지를 하나 시각화해봅니다.\n",
        "    3. 로지스틱 회귀 모델 생성\n",
        "        - 선형 회귀와 비슷합니다.\n",
        "        - 하지만 예측을 위해 모델에 로지스틱 함수(소프트맥스)가 포함되어야 합니다.\n",
        "        - PyTorch에서는 로지스틱 함수가 손실 함수에 포함되어 있으며, 이후 단계에서 이를 사용합니다.\n",
        "    4. 모델 인스턴스화\n",
        "        - `input_dim = 28*28` # 이미지 크기 px*px\n",
        "        - `output_dim = 10`  # 레이블 0,1,2,3,4,5,6,7,8,9\n",
        "        - 모델을 생성합니다.\n",
        "    5. 손실 함수 인스턴스화\n",
        "        - 교차 엔트로피 손실\n",
        "        - 손실을 계산하는 함수로, 소프트맥스(로지스틱 함수)도 포함되어 있습니다.\n",
        "    6. 옵티마이저 인스턴스화\n",
        "        - SGD 옵티마이저\n",
        "    7. 모델 훈련\n",
        "    8. 예측\n",
        "- 결과적으로, 그래프에서 볼 수 있듯이 손실 값은 감소하고, 정확도는 약 85%까지 증가하며 모델이 훈련되고 있음을 확인할 수 있습니다."
      ],
      "metadata": {
        "id": "7uXrwVTU9VFH"
      }
    },
    {
      "cell_type": "code",
      "source": [
        "import torch\n",
        "import torch.nn as nn\n",
        "from torch.autograd import Variable\n",
        "from torch.utils.data import TensorDataset, DataLoader\n",
        "import pandas as pd\n",
        "from sklearn.model_selection import train_test_split"
      ],
      "metadata": {
        "id": "FvnI_38-8CfS"
      },
      "execution_count": 26,
      "outputs": []
    },
    {
      "cell_type": "code",
      "source": [
        "# 데이터셋 준비\n",
        "# 데이터 로드\n",
        "train = pd.read_csv(r\"/content/drive/MyDrive/week1복습_DL/train.csv\", dtype=np.float32)\n",
        "\n",
        "# 데이터를 특징(픽셀 값)과 라벨(0~9 숫자)로 분리\n",
        "targets_numpy = train.label.values\n",
        "features_numpy = train.loc[:, train.columns != \"label\"].values / 255  # 정규화\n",
        "\n",
        "# 학습 데이터 80%, 테스트 데이터 20%로 분할\n",
        "features_train, features_test, targets_train, targets_test = train_test_split(\n",
        "    features_numpy, targets_numpy, test_size=0.2, random_state=42\n",
        ")\n",
        "\n",
        "# 학습 데이터셋을 텐서로 변환 (경사 계산을 위해 Variable 생성 필요)\n",
        "featuresTrain = torch.from_numpy(features_train)\n",
        "targetsTrain = torch.from_numpy(targets_train).type(torch.LongTensor)  # 데이터 타입은 long\n",
        "\n",
        "# 테스트 데이터셋을 텐서로 변환\n",
        "featuresTest = torch.from_numpy(features_test)\n",
        "targetsTest = torch.from_numpy(targets_test).type(torch.LongTensor)\n",
        "## 힌트: PyTorch Tesnor를 생성해주세요!\n",
        "## 어떤 데이터를 PyTorch Tensor를 변환하고, 어떤 데이터타입을 선택할지 직접 작성해주세요\n",
        "\n",
        "# 배치 크기, 반복 횟수 및 에포크 설정\n",
        "batch_size = 100\n",
        "n_iters = 10000\n",
        "num_epochs = int(n_iters / (len(features_train) / batch_size))\n",
        "\n",
        "# PyTorch 학습 및 테스트 데이터셋 생성\n",
        "train = TensorDataset(featuresTrain, targetsTrain)\n",
        "test  = TensorDataset(featuresTest, targetsTest)\n",
        "## 힌트: 입력 데이터와 레이블을 텐서로 변환하여, 이들을 TensorDataset으로 묶어 train과 test 데이터셋을 구성합니다\n",
        "## TensorDataset에는 두 개의 텐서를 전달해야 하며, 각각 특징과 레이블에 해당합니다.\n",
        "## 첫 번째 텐서는 입력 데이터, 두 번째 텐서는 정답 데이터이며 입력 데이터와 정답 데이터의 샘플 수가 동일해야 합니다.\n",
        "\n",
        "# 데이터 로더 생성\n",
        "train_loader = DataLoader(train, batch_size=batch_size, shuffle=False)\n",
        "test_loader = DataLoader(test, batch_size=batch_size, shuffle=False)\n",
        "\n",
        "# 데이터셋 중 하나의 이미지를 시각화\n",
        "plt.imshow(features_numpy[10].reshape(28, 28))\n",
        "plt.axis(\"off\")\n",
        "plt.title(str(targets_numpy[10]))\n",
        "plt.savefig('graph.png')\n",
        "plt.show()"
      ],
      "metadata": {
        "colab": {
          "base_uri": "https://localhost:8080/",
          "height": 428
        },
        "id": "cPmM5DM48Cb6",
        "outputId": "ef46883a-d558-4ff2-b7da-06090635fd50"
      },
      "execution_count": 27,
      "outputs": [
        {
          "output_type": "display_data",
          "data": {
            "text/plain": [
              "<Figure size 640x480 with 1 Axes>"
            ],
            "image/png": "[encoded data removed]"
          },
          "metadata": {}
        }
      ]
    },
    {
      "cell_type": "code",
      "source": [
        "# 로지스틱 회귀 모델 생성\n",
        "class LogisticRegressionModel(nn.Module):\n",
        "    def __init__(self, input_dim, output_dim):\n",
        "        super(LogisticRegressionModel, self).__init__()\n",
        "        # 선형 계층 설정\n",
        "        self.linear = nn.Linear(input_dim, output_dim)\n",
        "        # 로지스틱 함수는 손실 함수에 포함되어 있으므로 별도로 정의할 필요 없음\n",
        "\n",
        "    def forward(self, x):\n",
        "        out = self.linear(x)\n",
        "        return out\n",
        "\n",
        "# 모델 인스턴스화\n",
        "input_dim = 28 * 28  # 이미지 크기 (픽셀 * 픽셀)\n",
        "output_dim = 10  # 출력 라벨 (0~9)\n",
        "\n",
        "# 로지스틱 회귀 모델 생성\n",
        "model = LogisticRegressionModel(input_dim, output_dim)\n",
        "\n",
        "# 크로스 엔트로피 손실 함수\n",
        "error = nn.CrossEntropyLoss()\n",
        "\n",
        "# SGD 옵티마이저 설정\n",
        "learning_rate = 0.001\n",
        "optimizer = torch.optim.SGD(model.parameters(),lr =learning_rate)\n",
        "## 힌트: 모델 파라미터를 model.parameters()로 넘겨줍니다\n",
        "## 학습률(learning rate)은 훈련 속도를 결정합니다\n",
        "## 최적화 함수가 SGD이므로, torch.optim.SGD를 사용합니다"
      ],
      "metadata": {
        "id": "S73aSJuz8CZq"
      },
      "execution_count": 29,
      "outputs": []
    },
    {
      "cell_type": "code",
      "source": [
        "# 모델 학습\n",
        "count = 0\n",
        "loss_list = []\n",
        "iteration_list = []\n",
        "for epoch in range(num_epochs):\n",
        "    for i, (images, labels) in enumerate(train_loader):\n",
        "\n",
        "        # 변수 정의\n",
        "        train = Variable(images.view(-1, 28 * 28))\n",
        "        labels = Variable(labels)\n",
        "\n",
        "        # 경사 초기화\n",
        "        optimizer.zero_grad()\n",
        "\n",
        "        # 순전파\n",
        "        outputs = model(train)\n",
        "\n",
        "        # 소프트맥스 및 크로스 엔트로피 손실 계산\n",
        "        loss = error(outputs, labels)\n",
        "\n",
        "        # 역전파를 통한 경사 계산\n",
        "        loss.backward()\n",
        "\n",
        "        # 가중치 업데이트\n",
        "        optimizer.step()\n",
        "\n",
        "        count += 1\n",
        "\n",
        "        # 정확도 측정\n",
        "        if count % 50 == 0:\n",
        "            correct = 0\n",
        "            total = 0\n",
        "            # 테스트 데이터셋 예측 수행\n",
        "            for images, labels in test_loader:\n",
        "                test = Variable(images.view(-1, 28 * 28))\n",
        "\n",
        "                # 순전파\n",
        "                outputs = model(test)\n",
        "\n",
        "                # 최댓값을 기준으로 예측값 결정\n",
        "                predicted = torch.max(outputs.data, 1)[1]\n",
        "\n",
        "                # 전체 라벨 개수\n",
        "                total += len(labels)\n",
        "\n",
        "                # 맞춘 개수 계산\n",
        "                correct += (predicted == labels).sum()\n",
        "\n",
        "            accuracy = 100 * correct / float(total)\n",
        "\n",
        "            # 손실 및 반복 횟수 저장\n",
        "            loss_list.append(loss.data)\n",
        "            iteration_list.append(count)\n",
        "\n",
        "        # 500번마다 손실 출력\n",
        "        if count % 500 == 0:\n",
        "            print('Iteration: {}  Loss: {}  Accuracy: {}%'.format(count, loss.data, accuracy))"
      ],
      "metadata": {
        "colab": {
          "base_uri": "https://localhost:8080/"
        },
        "id": "Oc4X8eZt8CXq",
        "outputId": "486ec820-e765-4fb0-e457-581079f8f1f4"
      },
      "execution_count": 30,
      "outputs": [
        {
          "output_type": "stream",
          "name": "stdout",
          "text": [
            "Iteration: 500  Loss: 1.8323779106140137  Accuracy: 67.69047546386719%\n",
            "Iteration: 1000  Loss: 1.6083178520202637  Accuracy: 76.69047546386719%\n",
            "Iteration: 1500  Loss: 1.3072563409805298  Accuracy: 79.01190185546875%\n",
            "Iteration: 2000  Loss: 1.2013204097747803  Accuracy: 80.61904907226562%\n",
            "Iteration: 2500  Loss: 1.0364220142364502  Accuracy: 81.58333587646484%\n",
            "Iteration: 3000  Loss: 0.9203110337257385  Accuracy: 82.16666412353516%\n",
            "Iteration: 3500  Loss: 0.8912864923477173  Accuracy: 82.76190185546875%\n",
            "Iteration: 4000  Loss: 0.7599503993988037  Accuracy: 83.28571319580078%\n",
            "Iteration: 4500  Loss: 0.9775128960609436  Accuracy: 83.76190185546875%\n",
            "Iteration: 5000  Loss: 0.7985702753067017  Accuracy: 84.14286041259766%\n",
            "Iteration: 5500  Loss: 0.7444381713867188  Accuracy: 84.47618865966797%\n",
            "Iteration: 6000  Loss: 0.8573118448257446  Accuracy: 84.66666412353516%\n",
            "Iteration: 6500  Loss: 0.6542032361030579  Accuracy: 84.96428680419922%\n",
            "Iteration: 7000  Loss: 0.7160951495170593  Accuracy: 85.16666412353516%\n",
            "Iteration: 7500  Loss: 0.6347110867500305  Accuracy: 85.29762268066406%\n",
            "Iteration: 8000  Loss: 0.7451424598693848  Accuracy: 85.54762268066406%\n",
            "Iteration: 8500  Loss: 0.5473483800888062  Accuracy: 85.70237731933594%\n",
            "Iteration: 9000  Loss: 0.6604135036468506  Accuracy: 85.89286041259766%\n",
            "Iteration: 9500  Loss: 0.5262773036956787  Accuracy: 85.92857360839844%\n"
          ]
        }
      ]
    },
    {
      "cell_type": "code",
      "source": [
        "# 시각화\n",
        "plt.plot(iteration_list,loss_list)\n",
        "plt.xlabel(\"Number of iteration\")\n",
        "plt.ylabel(\"Loss\")\n",
        "plt.title(\"Logistic Regression: Loss vs Number of iteration\")\n",
        "plt.show()"
      ],
      "metadata": {
        "colab": {
          "base_uri": "https://localhost:8080/",
          "height": 472
        },
        "id": "FctKP-1E8CVh",
        "outputId": "8304b628-d64f-480b-bfb2-9a63f2bfa001"
      },
      "execution_count": 31,
      "outputs": [
        {
          "output_type": "display_data",
          "data": {
            "text/plain": [
              "<Figure size 640x480 with 1 Axes>"
            ],
            "image/png": "[encoded data removed]"
          },
          "metadata": {}
        }
      ]
    },
    {
      "cell_type": "code",
      "source": [],
      "metadata": {
        "id": "GBjoIg04AMh5"
      },
      "execution_count": null,
      "outputs": []
    }
  ]
}